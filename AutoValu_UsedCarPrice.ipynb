{
 "cells": [
  {
   "cell_type": "markdown",
   "id": "d6f7afe3",
   "metadata": {},
   "source": [
    "## dataset link \n",
    "\n",
    "https://www.kaggle.com/datasets/austinreese/craigslist-carstrucks-data\n",
    "\n",
    "https://www.kaggle.com/datasets/sukritchatterjee/used-cars-dataset-cardekho"
   ]
  },
  {
   "cell_type": "code",
   "execution_count": 8,
   "id": "702486bb",
   "metadata": {},
   "outputs": [],
   "source": [
    "import pandas as pd\n",
    "from pathlib import Path\n",
    "\n",
    "CACHE = \"dataset/autovalu_mvp.parquet\"\n",
    "RAW = \"dataset/vehicles.csv\"\n"
   ]
  },
  {
   "cell_type": "code",
   "execution_count": 9,
   "id": "b1252970",
   "metadata": {},
   "outputs": [
    {
     "name": "stdout",
     "output_type": "stream",
     "text": [
      "Loaded compact dataset: (426880, 16)\n"
     ]
    }
   ],
   "source": [
    "# Step 2 — Load dataset with caching (final cell)\n",
    "\n",
    "\n",
    "if Path(CACHE).exists():\n",
    "    # Fast path: load compact dataset\n",
    "    df = pd.read_parquet(CACHE, engine=\"pyarrow\")\n",
    "    print(\"Loaded compact dataset:\", df.shape)\n",
    "else:\n",
    "    # Slow path: load raw CSV and reduce it, then save\n",
    "    df_raw = pd.read_csv(RAW, low_memory=False, on_bad_lines=\"skip\")\n",
    "\n",
    "    # Drop useless columns\n",
    "    cols_to_drop = [\"id\",\"url\",\"region_url\",\"VIN\",\"image_url\",\"description\",\n",
    "                    \"county\",\"lat\",\"long\",\"posting_date\"]\n",
    "    df_reduced = df_raw.drop(columns=[c for c in cols_to_drop if c in df_raw.columns], errors=\"ignore\").copy()\n",
    "\n",
    "    # Convert to categories\n",
    "    cat_cols = [\"manufacturer\",\"model\",\"condition\",\"cylinders\",\"fuel\",\"title_status\",\n",
    "                \"transmission\",\"drive\",\"size\",\"type\",\"paint_color\",\"state\",\"region\"]\n",
    "    for c in cat_cols:\n",
    "        if c in df_reduced.columns and df_reduced[c].dtype == \"object\":\n",
    "            df_reduced[c] = df_reduced[c].astype(\"category\")\n",
    "\n",
    "    # Numeric compression\n",
    "    if \"year\" in df_reduced.columns:\n",
    "        df_reduced[\"year\"] = pd.to_numeric(df_reduced[\"year\"], errors=\"coerce\").astype(\"Int16\")\n",
    "    if \"price\" in df_reduced.columns:\n",
    "        df_reduced[\"price\"] = pd.to_numeric(df_reduced[\"price\"], errors=\"coerce\", downcast=\"integer\")\n",
    "    if \"odometer\" in df_reduced.columns:\n",
    "        df_reduced[\"odometer\"] = pd.to_numeric(df_reduced[\"odometer\"], errors=\"coerce\", downcast=\"float\")\n",
    "\n",
    "    # Save compact version\n",
    "    df_reduced.to_parquet(CACHE, engine=\"pyarrow\", compression=\"zstd\", index=False)\n",
    "    df = df_reduced\n",
    "    print(\"Built and cached compact dataset:\", df.shape)\n"
   ]
  }
 ],
 "metadata": {
  "kernelspec": {
   "display_name": "Python 3",
   "language": "python",
   "name": "python3"
  },
  "language_info": {
   "codemirror_mode": {
    "name": "ipython",
    "version": 3
   },
   "file_extension": ".py",
   "mimetype": "text/x-python",
   "name": "python",
   "nbconvert_exporter": "python",
   "pygments_lexer": "ipython3",
   "version": "3.11.3"
  }
 },
 "nbformat": 4,
 "nbformat_minor": 5
}
