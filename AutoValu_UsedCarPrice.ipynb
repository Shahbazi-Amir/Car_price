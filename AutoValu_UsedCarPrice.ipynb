{
 "cells": [
  {
   "cell_type": "markdown",
   "id": "d6f7afe3",
   "metadata": {},
   "source": [
    "## dataset link \n",
    "\n",
    "https://www.kaggle.com/datasets/austinreese/craigslist-carstrucks-data\n",
    "\n",
    "https://www.kaggle.com/datasets/sukritchatterjee/used-cars-dataset-cardekho"
   ]
  },
  {
   "cell_type": "code",
   "execution_count": null,
   "id": "9b7649b7",
   "metadata": {
    "vscode": {
     "languageId": "plaintext"
    }
   },
   "outputs": [],
   "source": []
  }
 ],
 "metadata": {
  "language_info": {
   "name": "python"
  }
 },
 "nbformat": 4,
 "nbformat_minor": 5
}
